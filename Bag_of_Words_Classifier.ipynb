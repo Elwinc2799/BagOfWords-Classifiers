{
  "nbformat": 4,
  "nbformat_minor": 0,
  "metadata": {
    "colab": {
      "name": "Bag of Words Classifier.ipynb",
      "provenance": [],
      "authorship_tag": "ABX9TyPUXsYjg+VwU9pAFwSkTKpT",
      "include_colab_link": true
    },
    "kernelspec": {
      "name": "python3",
      "display_name": "Python 3"
    },
    "language_info": {
      "name": "python"
    }
  },
  "cells": [
    {
      "cell_type": "markdown",
      "metadata": {
        "id": "view-in-github",
        "colab_type": "text"
      },
      "source": [
        "<a href=\"https://colab.research.google.com/github/Elwinc2799/BagOfWords-Classifiers/blob/main/Bag_of_Words_Classifier.ipynb\" target=\"_parent\"><img src=\"https://colab.research.google.com/assets/colab-badge.svg\" alt=\"Open In Colab\"/></a>"
      ]
    },
    {
      "cell_type": "markdown",
      "source": [
        "Decision Tress Classifier"
      ],
      "metadata": {
        "id": "DK3N3BcJKL_5"
      }
    },
    {
      "cell_type": "code",
      "execution_count": 1,
      "metadata": {
        "id": "UWY9pFv5HSAX"
      },
      "outputs": [],
      "source": [
        "import nltk as nltk\n",
        "from sklearn import tree"
      ]
    },
    {
      "cell_type": "code",
      "source": [
        "weather = [[1.0, 1.0, 1.0, 0.0],\n",
        "[1.0, 1.0, 1.0, 1.0],\n",
        "[0.5, 1.0, 1.0, 0.0],\n",
        "[0.0, 0.5, 1.0, 0.0],\n",
        "[0.0, 0.0, 0.0, 0.0],\n",
        "[0.0, 0.0, 0.0, 1.0],\n",
        "[0.5, 0.0, 0.0, 1.0],\n",
        "[1.0, 0.5, 1.0, 0.0],\n",
        "[1.0, 0.0, 0.0, 0.0],\n",
        "[0.0, 0.5, 0.0, 0.0],\n",
        "[1.0, 0.5, 0.0, 1.0],\n",
        "[0.5, 0.5, 1.0, 1.0],\n",
        "[0.5, 1.0, 0.0, 0.0],\n",
        "[0.0, 0.5, 1.0, 1.0]]"
      ],
      "metadata": {
        "id": "qFOwUarGH-TJ"
      },
      "execution_count": 2,
      "outputs": []
    },
    {
      "cell_type": "code",
      "source": [
        "cat = [0, 0, 1, 1, 1, 0, 1, 0, 1, 1, 1, 1, 1, 0]"
      ],
      "metadata": {
        "id": "9qgxwMrAIVXN"
      },
      "execution_count": 3,
      "outputs": []
    },
    {
      "cell_type": "code",
      "source": [
        "Decision_Tree_Model = tree.DecisionTreeClassifier (criterion=\"entropy\",min_samples_leaf = 3)"
      ],
      "metadata": {
        "id": "qNOhR--lIZwY"
      },
      "execution_count": 4,
      "outputs": []
    },
    {
      "cell_type": "code",
      "source": [
        "Decision_Tree_Model.fit (weather, cat)"
      ],
      "metadata": {
        "colab": {
          "base_uri": "https://localhost:8080/"
        },
        "id": "9tp-BBLsIl0W",
        "outputId": "f94efecb-e116-4ab8-8fe3-0ab409286f84"
      },
      "execution_count": 5,
      "outputs": [
        {
          "output_type": "execute_result",
          "data": {
            "text/plain": [
              "DecisionTreeClassifier(criterion='entropy', min_samples_leaf=3)"
            ]
          },
          "metadata": {},
          "execution_count": 5
        }
      ]
    },
    {
      "cell_type": "markdown",
      "source": [
        "For demo, we will just use the training data 'weather' for testing"
      ],
      "metadata": {
        "id": "WE0vyLGSIusU"
      }
    },
    {
      "cell_type": "code",
      "source": [
        "test_cat = Decision_Tree_Model.predict (weather)"
      ],
      "metadata": {
        "id": "pVifYxPrI1fE"
      },
      "execution_count": 6,
      "outputs": []
    },
    {
      "cell_type": "code",
      "source": [
        "print(test_cat)"
      ],
      "metadata": {
        "colab": {
          "base_uri": "https://localhost:8080/"
        },
        "id": "T5SH--OXI_cT",
        "outputId": "0c0df849-aa37-4d8f-94ae-51e075023d5e"
      },
      "execution_count": 7,
      "outputs": [
        {
          "output_type": "stream",
          "name": "stdout",
          "text": [
            "[0 0 1 1 1 1 1 0 1 1 1 1 1 1]\n"
          ]
        }
      ]
    },
    {
      "cell_type": "code",
      "source": [
        "from sklearn.metrics import accuracy_score\n",
        "accuracy_score(cat, test_cat)"
      ],
      "metadata": {
        "colab": {
          "base_uri": "https://localhost:8080/"
        },
        "id": "L2UJ2T0JJO1m",
        "outputId": "f086d62e-5156-41e5-e36e-c5f0ab10e73b"
      },
      "execution_count": 8,
      "outputs": [
        {
          "output_type": "execute_result",
          "data": {
            "text/plain": [
              "0.8571428571428571"
            ]
          },
          "metadata": {},
          "execution_count": 8
        }
      ]
    },
    {
      "cell_type": "markdown",
      "source": [
        "CountVectorizer"
      ],
      "metadata": {
        "id": "h--LvCzZKEkq"
      }
    },
    {
      "cell_type": "code",
      "source": [
        "from sklearn.feature_extraction.text import CountVectorizer"
      ],
      "metadata": {
        "id": "sLa6dyolKV82"
      },
      "execution_count": 9,
      "outputs": []
    },
    {
      "cell_type": "code",
      "source": [
        "text = [\"In machine learning, pattern recognition and in image processing, feature extraction starts from an initial set of measured data and builds derived values (features) intended to be informative and non redundant, facilitating the subsequent learning and generalization steps, and in some cases leading to better human interpretations.\"]"
      ],
      "metadata": {
        "id": "PolfPk1lKgAH"
      },
      "execution_count": 10,
      "outputs": []
    },
    {
      "cell_type": "code",
      "source": [
        "vectorizer = CountVectorizer()\n",
        "#tokenize and build vocab\n",
        "vectorizer.fit(text)"
      ],
      "metadata": {
        "colab": {
          "base_uri": "https://localhost:8080/"
        },
        "id": "k3o5rMyXKrpH",
        "outputId": "87fc0440-9fdd-400b-bc1c-8d5891c470fa"
      },
      "execution_count": 11,
      "outputs": [
        {
          "output_type": "execute_result",
          "data": {
            "text/plain": [
              "CountVectorizer()"
            ]
          },
          "metadata": {},
          "execution_count": 11
        }
      ]
    },
    {
      "cell_type": "code",
      "source": [
        "#summary\n",
        "print(vectorizer.vocabulary_)"
      ],
      "metadata": {
        "colab": {
          "base_uri": "https://localhost:8080/"
        },
        "id": "sg28bJDOKzuo",
        "outputId": "87499949-06af-4832-d0ca-90d0c1f101bc"
      },
      "execution_count": 12,
      "outputs": [
        {
          "output_type": "stream",
          "name": "stdout",
          "text": [
            "{'in': 16, 'machine': 23, 'learning': 22, 'pattern': 27, 'recognition': 29, 'and': 1, 'image': 15, 'processing': 28, 'feature': 10, 'extraction': 8, 'starts': 33, 'from': 12, 'an': 0, 'initial': 18, 'set': 31, 'of': 26, 'measured': 24, 'data': 6, 'builds': 4, 'derived': 7, 'values': 38, 'features': 11, 'intended': 19, 'to': 37, 'be': 2, 'informative': 17, 'non': 25, 'redundant': 30, 'facilitating': 9, 'the': 36, 'subsequent': 35, 'generalization': 13, 'steps': 34, 'some': 32, 'cases': 5, 'leading': 21, 'better': 3, 'human': 14, 'interpretations': 20}\n"
          ]
        }
      ]
    },
    {
      "cell_type": "code",
      "source": [
        "#encode document\n",
        "vector = vectorizer.transform(text)"
      ],
      "metadata": {
        "id": "vfLORD_pK6RP"
      },
      "execution_count": 13,
      "outputs": []
    },
    {
      "cell_type": "code",
      "source": [
        "#summarize encoded vector\n",
        "print(vector.shape)"
      ],
      "metadata": {
        "colab": {
          "base_uri": "https://localhost:8080/"
        },
        "id": "18OFGkOILJ0O",
        "outputId": "dd3cd32e-6006-446d-a8f1-fcc71347d2d1"
      },
      "execution_count": 14,
      "outputs": [
        {
          "output_type": "stream",
          "name": "stdout",
          "text": [
            "(1, 39)\n"
          ]
        }
      ]
    },
    {
      "cell_type": "code",
      "source": [
        "print(type(vector))"
      ],
      "metadata": {
        "colab": {
          "base_uri": "https://localhost:8080/"
        },
        "id": "1-S6m_94LQea",
        "outputId": "83828b7b-5c58-4a4a-866c-a272a4bd5de9"
      },
      "execution_count": 15,
      "outputs": [
        {
          "output_type": "stream",
          "name": "stdout",
          "text": [
            "<class 'scipy.sparse.csr.csr_matrix'>\n"
          ]
        }
      ]
    },
    {
      "cell_type": "code",
      "source": [
        "print(vector.toarray())"
      ],
      "metadata": {
        "colab": {
          "base_uri": "https://localhost:8080/"
        },
        "id": "WfSuvrTZLUY9",
        "outputId": "12e2a30f-6a9d-4575-dec4-efe241c5937a"
      },
      "execution_count": 16,
      "outputs": [
        {
          "output_type": "stream",
          "name": "stdout",
          "text": [
            "[[1 5 1 1 1 1 1 1 1 1 1 1 1 1 1 1 3 1 1 1 1 1 2 1 1 1 1 1 1 1 1 1 1 1 1 1\n",
            "  1 2 1]]\n"
          ]
        }
      ]
    },
    {
      "cell_type": "markdown",
      "source": [
        "Classify the text"
      ],
      "metadata": {
        "id": "xBueQPajLtZM"
      }
    },
    {
      "cell_type": "code",
      "source": [
        "messages = [\"i love the movies!\", \n",
        "        \"The actors are great.\", \n",
        "        \"Beautiful actress :)\", \n",
        "        \"i don't like the music\", \n",
        "        \"nice story\",\n",
        "        \"actors are great, but overall is not nice.\",\n",
        "        \"love it!\",\n",
        "        \"great...\",\n",
        "        \"enjoy it very much.\",\n",
        "        \"Wonderful experience.\",\n",
        "        \"really boring\",\n",
        "        \":(\",\n",
        "        \"Bad acting\",\n",
        "        \"I don't like the actors\",\n",
        "        \"Fall asleep throughout the movie!\",\n",
        "        \"too much dialogs and not much actions\"]"
      ],
      "metadata": {
        "id": "tapnii8tMrfu"
      },
      "execution_count": 17,
      "outputs": []
    },
    {
      "cell_type": "code",
      "source": [
        "rating = [\"Good\",\n",
        "          \"Good\",\n",
        "          \"Good\",\n",
        "          \"Bad\",\n",
        "          \"Good\",\n",
        "          \"Bad\",\n",
        "          \"Good\",\n",
        "          \"Good\",\n",
        "          \"Good\",\n",
        "          \"Good\",\n",
        "          \"Bad\",\n",
        "          \"Bad\",\n",
        "          \"Bad\",\n",
        "          \"Bad\",\n",
        "          \"Bad\",\n",
        "          \"Bad\"]"
      ],
      "metadata": {
        "id": "C7uQLmpMNOBg"
      },
      "execution_count": 18,
      "outputs": []
    },
    {
      "cell_type": "code",
      "source": [
        "vectorizer = CountVectorizer()\n",
        "vectorizer.fit(messages)"
      ],
      "metadata": {
        "colab": {
          "base_uri": "https://localhost:8080/"
        },
        "id": "kidiTsAyOnr2",
        "outputId": "8e76386a-1f92-47f5-ec49-859606d4f1c3"
      },
      "execution_count": 19,
      "outputs": [
        {
          "output_type": "execute_result",
          "data": {
            "text/plain": [
              "CountVectorizer()"
            ]
          },
          "metadata": {},
          "execution_count": 19
        }
      ]
    },
    {
      "cell_type": "code",
      "source": [
        "print(vectorizer.vocabulary_)"
      ],
      "metadata": {
        "colab": {
          "base_uri": "https://localhost:8080/"
        },
        "id": "KEdUpo9RPhX4",
        "outputId": "d628546d-f38b-492b-e1f3-504a152baa27"
      },
      "execution_count": 20,
      "outputs": [
        {
          "output_type": "stream",
          "name": "stdout",
          "text": [
            "{'love': 20, 'the': 30, 'movies': 22, 'actors': 2, 'are': 5, 'great': 16, 'beautiful': 8, 'actress': 3, 'don': 12, 'like': 19, 'music': 24, 'nice': 25, 'story': 29, 'but': 10, 'overall': 27, 'is': 17, 'not': 26, 'it': 18, 'enjoy': 13, 'very': 33, 'much': 23, 'wonderful': 34, 'experience': 14, 'really': 28, 'boring': 9, 'bad': 7, 'acting': 0, 'fall': 15, 'asleep': 6, 'throughout': 31, 'movie': 21, 'too': 32, 'dialogs': 11, 'and': 4, 'actions': 1}\n"
          ]
        }
      ]
    },
    {
      "cell_type": "code",
      "source": [
        "vector = vectorizer.transform(messages)"
      ],
      "metadata": {
        "id": "syp09xEFQYUo"
      },
      "execution_count": 21,
      "outputs": []
    },
    {
      "cell_type": "code",
      "source": [
        "print(vector.shape)"
      ],
      "metadata": {
        "colab": {
          "base_uri": "https://localhost:8080/"
        },
        "id": "Dy3HrcnqQib8",
        "outputId": "7e28e5ec-adac-49cf-fe4a-a47c824cf68e"
      },
      "execution_count": 22,
      "outputs": [
        {
          "output_type": "stream",
          "name": "stdout",
          "text": [
            "(16, 35)\n"
          ]
        }
      ]
    },
    {
      "cell_type": "code",
      "source": [
        "Decision_Tree_Model_Text = tree.DecisionTreeClassifier (criterion=\"entropy\",min_samples_leaf = 3)"
      ],
      "metadata": {
        "id": "55qhnIOhQnWp"
      },
      "execution_count": 23,
      "outputs": []
    },
    {
      "cell_type": "code",
      "source": [
        "Decision_Tree_Model_Text.fit(vector, rating)"
      ],
      "metadata": {
        "colab": {
          "base_uri": "https://localhost:8080/"
        },
        "id": "YRlOS3GBQp1N",
        "outputId": "0c10bf5e-2385-4e1f-81ea-130c2fa809f3"
      },
      "execution_count": 24,
      "outputs": [
        {
          "output_type": "execute_result",
          "data": {
            "text/plain": [
              "DecisionTreeClassifier(criterion='entropy', min_samples_leaf=3)"
            ]
          },
          "metadata": {},
          "execution_count": 24
        }
      ]
    },
    {
      "cell_type": "code",
      "source": [
        "test_rating = Decision_Tree_Model_Text.predict(vector)"
      ],
      "metadata": {
        "id": "H6oQo9VcRNMx"
      },
      "execution_count": 25,
      "outputs": []
    },
    {
      "cell_type": "code",
      "source": [
        "accuracy_score(rating, test_rating)"
      ],
      "metadata": {
        "colab": {
          "base_uri": "https://localhost:8080/"
        },
        "id": "O9l6Wl0pRa3n",
        "outputId": "9d4c7202-9813-47eb-c065-371129cc4d76"
      },
      "execution_count": 26,
      "outputs": [
        {
          "output_type": "execute_result",
          "data": {
            "text/plain": [
              "0.625"
            ]
          },
          "metadata": {},
          "execution_count": 26
        }
      ]
    },
    {
      "cell_type": "markdown",
      "source": [
        "Build a feedforward neural network text classifier using bag-of-words model"
      ],
      "metadata": {
        "id": "5Th6e63_Kf9D"
      }
    },
    {
      "cell_type": "code",
      "source": [
        "from tensorflow.keras.models import Sequential\n",
        "from tensorflow.keras.layers import Dense\n",
        "from tensorflow.keras.utils import to_categorical\n",
        "from tensorflow.keras.optimizers import SGD\n",
        "import numpy as np"
      ],
      "metadata": {
        "id": "T4pfxm0CKlBl"
      },
      "execution_count": 50,
      "outputs": []
    },
    {
      "cell_type": "code",
      "source": [
        "model = Sequential()\n",
        "model.add(Dense(3, input_dim=vector.shape[1], activation='relu'))\n",
        "model.add(Dense(2, activation='softmax'))   # size of output layer (2) depends on output classes"
      ],
      "metadata": {
        "id": "2tA04B-ULGb7"
      },
      "execution_count": 59,
      "outputs": []
    },
    {
      "cell_type": "code",
      "source": [
        "sgd = SGD(learning_rate=0.01)"
      ],
      "metadata": {
        "id": "Mm4SLzSsNKRc"
      },
      "execution_count": 60,
      "outputs": []
    },
    {
      "cell_type": "code",
      "source": [
        "model.compile(optimizer=sgd, \n",
        "              loss='categorical_crossentropy', \n",
        "              metrics=['accuracy'])"
      ],
      "metadata": {
        "id": "5-XykZwEOHEC"
      },
      "execution_count": 61,
      "outputs": []
    },
    {
      "cell_type": "code",
      "source": [
        "rating = [1 if x == \"Good\" else 0 for x in rating]"
      ],
      "metadata": {
        "id": "z_3dCPo8UgUk"
      },
      "execution_count": 69,
      "outputs": []
    },
    {
      "cell_type": "code",
      "source": [
        "history = model.fit(vector.toarray(), \n",
        "                    to_categorical(rating),\n",
        "                    validation_data=(vector.toarray(), to_categorical(rating)),\n",
        "                    epochs=40, \n",
        "                    batch_size=1)"
      ],
      "metadata": {
        "colab": {
          "base_uri": "https://localhost:8080/"
        },
        "id": "cDcN_y23PY06",
        "outputId": "5a1b4d6b-a16b-4a0f-a5ac-2c679ff960e5"
      },
      "execution_count": 70,
      "outputs": [
        {
          "output_type": "stream",
          "name": "stdout",
          "text": [
            "Epoch 1/40\n",
            "16/16 [==============================] - 1s 19ms/step - loss: 0.6992 - accuracy: 0.4375 - val_loss: 0.6958 - val_accuracy: 0.6250\n",
            "Epoch 2/40\n",
            "16/16 [==============================] - 0s 4ms/step - loss: 0.6983 - accuracy: 0.4375 - val_loss: 0.6949 - val_accuracy: 0.6250\n",
            "Epoch 3/40\n",
            "16/16 [==============================] - 0s 4ms/step - loss: 0.6974 - accuracy: 0.3750 - val_loss: 0.6940 - val_accuracy: 0.6250\n",
            "Epoch 4/40\n",
            "16/16 [==============================] - 0s 3ms/step - loss: 0.6965 - accuracy: 0.5000 - val_loss: 0.6932 - val_accuracy: 0.6250\n",
            "Epoch 5/40\n",
            "16/16 [==============================] - 0s 3ms/step - loss: 0.6956 - accuracy: 0.5000 - val_loss: 0.6923 - val_accuracy: 0.6875\n",
            "Epoch 6/40\n",
            "16/16 [==============================] - 0s 4ms/step - loss: 0.6948 - accuracy: 0.5625 - val_loss: 0.6915 - val_accuracy: 0.6875\n",
            "Epoch 7/40\n",
            "16/16 [==============================] - 0s 4ms/step - loss: 0.6940 - accuracy: 0.4375 - val_loss: 0.6906 - val_accuracy: 0.6875\n",
            "Epoch 8/40\n",
            "16/16 [==============================] - 0s 4ms/step - loss: 0.6930 - accuracy: 0.5625 - val_loss: 0.6897 - val_accuracy: 0.6875\n",
            "Epoch 9/40\n",
            "16/16 [==============================] - 0s 4ms/step - loss: 0.6922 - accuracy: 0.5625 - val_loss: 0.6889 - val_accuracy: 0.6250\n",
            "Epoch 10/40\n",
            "16/16 [==============================] - 0s 4ms/step - loss: 0.6914 - accuracy: 0.6250 - val_loss: 0.6880 - val_accuracy: 0.6250\n",
            "Epoch 11/40\n",
            "16/16 [==============================] - 0s 4ms/step - loss: 0.6904 - accuracy: 0.6250 - val_loss: 0.6870 - val_accuracy: 0.6875\n",
            "Epoch 12/40\n",
            "16/16 [==============================] - 0s 4ms/step - loss: 0.6895 - accuracy: 0.5625 - val_loss: 0.6861 - val_accuracy: 0.6875\n",
            "Epoch 13/40\n",
            "16/16 [==============================] - 0s 3ms/step - loss: 0.6885 - accuracy: 0.6250 - val_loss: 0.6851 - val_accuracy: 0.6875\n",
            "Epoch 14/40\n",
            "16/16 [==============================] - 0s 4ms/step - loss: 0.6875 - accuracy: 0.6250 - val_loss: 0.6841 - val_accuracy: 0.6875\n",
            "Epoch 15/40\n",
            "16/16 [==============================] - 0s 4ms/step - loss: 0.6865 - accuracy: 0.6250 - val_loss: 0.6830 - val_accuracy: 0.6875\n",
            "Epoch 16/40\n",
            "16/16 [==============================] - 0s 4ms/step - loss: 0.6854 - accuracy: 0.6875 - val_loss: 0.6819 - val_accuracy: 0.6875\n",
            "Epoch 17/40\n",
            "16/16 [==============================] - 0s 4ms/step - loss: 0.6842 - accuracy: 0.6250 - val_loss: 0.6807 - val_accuracy: 0.6875\n",
            "Epoch 18/40\n",
            "16/16 [==============================] - 0s 4ms/step - loss: 0.6831 - accuracy: 0.6875 - val_loss: 0.6795 - val_accuracy: 0.7500\n",
            "Epoch 19/40\n",
            "16/16 [==============================] - 0s 4ms/step - loss: 0.6818 - accuracy: 0.6875 - val_loss: 0.6782 - val_accuracy: 0.7500\n",
            "Epoch 20/40\n",
            "16/16 [==============================] - 0s 5ms/step - loss: 0.6805 - accuracy: 0.6250 - val_loss: 0.6768 - val_accuracy: 0.7500\n",
            "Epoch 21/40\n",
            "16/16 [==============================] - 0s 4ms/step - loss: 0.6791 - accuracy: 0.7500 - val_loss: 0.6753 - val_accuracy: 0.7500\n",
            "Epoch 22/40\n",
            "16/16 [==============================] - 0s 4ms/step - loss: 0.6775 - accuracy: 0.6875 - val_loss: 0.6735 - val_accuracy: 0.7500\n",
            "Epoch 23/40\n",
            "16/16 [==============================] - 0s 4ms/step - loss: 0.6757 - accuracy: 0.7500 - val_loss: 0.6716 - val_accuracy: 0.7500\n",
            "Epoch 24/40\n",
            "16/16 [==============================] - 0s 4ms/step - loss: 0.6737 - accuracy: 0.7500 - val_loss: 0.6695 - val_accuracy: 0.7500\n",
            "Epoch 25/40\n",
            "16/16 [==============================] - 0s 4ms/step - loss: 0.6716 - accuracy: 0.7500 - val_loss: 0.6672 - val_accuracy: 0.8125\n",
            "Epoch 26/40\n",
            "16/16 [==============================] - 0s 4ms/step - loss: 0.6693 - accuracy: 0.7500 - val_loss: 0.6648 - val_accuracy: 0.8125\n",
            "Epoch 27/40\n",
            "16/16 [==============================] - 0s 4ms/step - loss: 0.6667 - accuracy: 0.7500 - val_loss: 0.6621 - val_accuracy: 0.8125\n",
            "Epoch 28/40\n",
            "16/16 [==============================] - 0s 4ms/step - loss: 0.6640 - accuracy: 0.8125 - val_loss: 0.6594 - val_accuracy: 0.8125\n",
            "Epoch 29/40\n",
            "16/16 [==============================] - 0s 4ms/step - loss: 0.6611 - accuracy: 0.8125 - val_loss: 0.6567 - val_accuracy: 0.8125\n",
            "Epoch 30/40\n",
            "16/16 [==============================] - 0s 4ms/step - loss: 0.6583 - accuracy: 0.8125 - val_loss: 0.6534 - val_accuracy: 0.8750\n",
            "Epoch 31/40\n",
            "16/16 [==============================] - 0s 4ms/step - loss: 0.6553 - accuracy: 0.8750 - val_loss: 0.6503 - val_accuracy: 0.8750\n",
            "Epoch 32/40\n",
            "16/16 [==============================] - 0s 4ms/step - loss: 0.6520 - accuracy: 0.8125 - val_loss: 0.6469 - val_accuracy: 0.8125\n",
            "Epoch 33/40\n",
            "16/16 [==============================] - 0s 4ms/step - loss: 0.6484 - accuracy: 0.8125 - val_loss: 0.6432 - val_accuracy: 0.8125\n",
            "Epoch 34/40\n",
            "16/16 [==============================] - 0s 4ms/step - loss: 0.6447 - accuracy: 0.7500 - val_loss: 0.6393 - val_accuracy: 0.8125\n",
            "Epoch 35/40\n",
            "16/16 [==============================] - 0s 4ms/step - loss: 0.6408 - accuracy: 0.7500 - val_loss: 0.6353 - val_accuracy: 0.8750\n",
            "Epoch 36/40\n",
            "16/16 [==============================] - 0s 4ms/step - loss: 0.6372 - accuracy: 0.8125 - val_loss: 0.6313 - val_accuracy: 0.8750\n",
            "Epoch 37/40\n",
            "16/16 [==============================] - 0s 3ms/step - loss: 0.6328 - accuracy: 0.8750 - val_loss: 0.6270 - val_accuracy: 0.8750\n",
            "Epoch 38/40\n",
            "16/16 [==============================] - 0s 4ms/step - loss: 0.6280 - accuracy: 0.8750 - val_loss: 0.6224 - val_accuracy: 0.8750\n",
            "Epoch 39/40\n",
            "16/16 [==============================] - 0s 4ms/step - loss: 0.6241 - accuracy: 0.8750 - val_loss: 0.6175 - val_accuracy: 0.8750\n",
            "Epoch 40/40\n",
            "16/16 [==============================] - 0s 4ms/step - loss: 0.6189 - accuracy: 0.8125 - val_loss: 0.6130 - val_accuracy: 0.8750\n"
          ]
        }
      ]
    },
    {
      "cell_type": "code",
      "source": [
        "prob = model.predict(vector.toarray())\n",
        "print(prob)"
      ],
      "metadata": {
        "colab": {
          "base_uri": "https://localhost:8080/"
        },
        "id": "mHAOKc3wSXrZ",
        "outputId": "5efb286e-f4dc-4652-b5ec-a6d911a6d0e9"
      },
      "execution_count": 71,
      "outputs": [
        {
          "output_type": "stream",
          "name": "stdout",
          "text": [
            "[[0.4150908  0.5849092 ]\n",
            " [0.4733947  0.52660525]\n",
            " [0.38552243 0.61447763]\n",
            " [0.5093404  0.49065962]\n",
            " [0.51115423 0.48884583]\n",
            " [0.53012776 0.4698723 ]\n",
            " [0.3759961  0.6240039 ]\n",
            " [0.43418658 0.5658135 ]\n",
            " [0.43702212 0.5629779 ]\n",
            " [0.40786096 0.59213907]\n",
            " [0.5357875  0.46421248]\n",
            " [0.5040253  0.49597466]\n",
            " [0.45993027 0.54006976]\n",
            " [0.52398336 0.47601664]\n",
            " [0.53626287 0.46373707]\n",
            " [0.53626287 0.46373707]]\n"
          ]
        }
      ]
    },
    {
      "cell_type": "code",
      "source": [
        "hyp = np.argmax(prob, axis=1)\n",
        "print(hyp)"
      ],
      "metadata": {
        "colab": {
          "base_uri": "https://localhost:8080/"
        },
        "id": "ksgzOORMTQu1",
        "outputId": "fc57ed61-0208-43d3-8d20-8c10ed99fe20"
      },
      "execution_count": 72,
      "outputs": [
        {
          "output_type": "stream",
          "name": "stdout",
          "text": [
            "[1 1 1 0 0 0 1 1 1 1 0 0 1 0 0 0]\n"
          ]
        }
      ]
    }
  ]
}